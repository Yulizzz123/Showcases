{
 "cells": [
  {
   "cell_type": "markdown",
   "metadata": {},
   "source": [
    "# Hangman"
   ]
  },
  {
   "cell_type": "markdown",
   "metadata": {},
   "source": [
    "## 1 Code Snippets"
   ]
  },
  {
   "cell_type": "markdown",
   "metadata": {},
   "source": [
    "### 1.1 Game preparation"
   ]
  },
  {
   "cell_type": "code",
   "execution_count": 2,
   "metadata": {},
   "outputs": [
    {
     "name": "stdout",
     "output_type": "stream",
     "text": [
      "Choose between 1 or 2 players. Input number: 2\n",
      "Let's get started.\n"
     ]
    }
   ],
   "source": [
    "# Select no. of players\n",
    "\n",
    "number = [1,2]\n",
    "\n",
    "def ask_no_players():\n",
    "    no_players = int(input(\"Choose between 1 or 2 players. Input number: \"))\n",
    "\n",
    "    while no_players > 2:\n",
    "        print (\"Error. Choose '1' or '2'.\")\n",
    "        ask_no_players = int(input(\"Choose between 1 or 2 players. Input number: \"))\n",
    "\n",
    "        if no_players == 1:\n",
    "            print(f\"Nice! {ask_no_players} player.\")\n",
    "        elif no_players == 2:\n",
    "            print(f\"Nice! {ask_no_players} players.\")\n",
    "    \n",
    "    return no_players\n",
    "\n",
    "ask_no_players2 = ask_no_players()\n",
    "    \n",
    "print(\"Let's get started.\")\n",
    "  "
   ]
  },
  {
   "cell_type": "code",
   "execution_count": 3,
   "metadata": {
    "scrolled": true
   },
   "outputs": [
    {
     "name": "stdout",
     "output_type": "stream",
     "text": [
      "['a', 'b', 'c', 'd', 'e', 'f', 'g', 'h', 'i', 'j', 'k', 'l', 'm', 'n', 'o', 'p', 'q', 'r', 's', 't', 'u', 'v', 'w', 'x', 'y', 'z']\n"
     ]
    }
   ],
   "source": [
    "# List valid letters\n",
    "import string\n",
    "letters = list(string.ascii_lowercase)\n",
    "print(letters)"
   ]
  },
  {
   "cell_type": "code",
   "execution_count": 4,
   "metadata": {},
   "outputs": [
    {
     "name": "stdout",
     "output_type": "stream",
     "text": [
      "Choose a difficult word to guess with max. 8 characters: juli\n",
      "\n",
      "Nice choice!\n"
     ]
    }
   ],
   "source": [
    "# Ask hangman for a word to be guessed\n",
    "def ask_word_choice_hangman():\n",
    "\n",
    "    word_choice_hangman = input(\"Choose a difficult word to guess with max. 8 characters: \").lower()\n",
    "    \n",
    "    for letter in word_choice_hangman:\n",
    "        if letter not in letters:\n",
    "            print(\"Only letters from 'a' to 'z' are accepted.\")\n",
    "            word_choice_hangman = input(\"Choose a difficult word to guess with max. 8 characters: \").lower()\n",
    "    \n",
    "    while len(word_choice_hangman) > 8:\n",
    "        print(\"Sorry, too many letters.\")\n",
    "        word_choice_hangman = input(\"Choose a difficult word to guess with max. 8 characters: \").lower()\n",
    "  \n",
    "    return word_choice_hangman\n",
    "\n",
    "word_choice_hangman2 = ask_word_choice_hangman()\n",
    "\n",
    "print(\"\\nNice choice!\")"
   ]
  },
  {
   "cell_type": "code",
   "execution_count": 5,
   "metadata": {},
   "outputs": [
    {
     "name": "stdout",
     "output_type": "stream",
     "text": [
      "['_', '_', '_', '_']\n"
     ]
    }
   ],
   "source": [
    "display_correct_answer = []\n",
    "display_correct_answer.extend(word_choice_hangman2)\n",
    "\n",
    "for i in range(len(word_choice_hangman2)):\n",
    "    display_correct_answer[i] = \"_\" \n",
    "print(display_correct_answer)"
   ]
  },
  {
   "cell_type": "markdown",
   "metadata": {},
   "source": [
    "### 1.2 Playing the Game"
   ]
  },
  {
   "cell_type": "markdown",
   "metadata": {},
   "source": [
    "### 1.2.1 Player 1"
   ]
  },
  {
   "cell_type": "code",
   "execution_count": 6,
   "metadata": {},
   "outputs": [],
   "source": [
    "# Ask player 1 to guess a letter\n",
    "\n",
    "def ask_choice_player_1():\n",
    "    \n",
    "    letter_choice_player_1 = (input(\"\\nChoose a letter from 'a' to 'z': \"))\n",
    "    \n",
    "    for letter in letter_choice_player_1:\n",
    "        if letter not in letters:\n",
    "            print (\"Only letters from 'a' to 'z' are accepted.\")\n",
    "            letter_chosen_player_1.append()\n",
    "            letter_choice_player_1 = (input(\"Choose a letter from 'a' to 'z': \"))\n",
    "    \n",
    "    while len(letter_choice_player_1) > 1:\n",
    "        print(\"Sorry, you can only select 1 letter.\")\n",
    "        letter_choice_player_1 = (input(\"Choose a letter from 'a' to 'z': \"))\n",
    "    \n",
    "    return letter_choice_player_1"
   ]
  },
  {
   "cell_type": "code",
   "execution_count": 7,
   "metadata": {},
   "outputs": [
    {
     "name": "stdout",
     "output_type": "stream",
     "text": [
      "\n",
      "Choose a letter from 'a' to 'z': u\n"
     ]
    }
   ],
   "source": [
    "letter_player_1 = ask_choice_player_1()"
   ]
  },
  {
   "cell_type": "code",
   "execution_count": 8,
   "metadata": {},
   "outputs": [],
   "source": [
    "# Show results of player 1\n",
    "\n",
    "def show_result_player_1():\n",
    "    \n",
    "        for i in range(len(word_choice_hangman2)):\n",
    "        \n",
    "            if word_choice_hangman2[i] == letter_player_1: \n",
    "                display_correct_answer[i] = letter_player_1 \n",
    "\n",
    "                print(\"\\nYay, you have a match!\")\n",
    "                print(display_correct_answer)\n",
    "                \n",
    "                correct_guesses_player_1 = 0\n",
    "                correct_guesses_player_1 += 1\n",
    "                wrong_guesses_player_1 = 0\n",
    "                print(f\"\\nYour number of correct guesses is: {correct_guesses_player_1}.\\nYour number of wrong guesses is {wrong_guesses_player_1}.\")\n",
    "        \n",
    "        if letter_player_1 not in word_choice_hangman2:\n",
    "            print(\"\\nSorry, no match.\")\n",
    "            correct_guesses_player_1 = 0\n",
    "            wrong_guesses_player_1 = 0\n",
    "            wrong_guesses_player_1 += 1\n",
    "            print(f\"\\nYour number of correct guesses is: {correct_guesses_player_1}.\")\n",
    "            \n",
    "        if wrong_guesses_player_1 == 1:\n",
    "            print(f\"Your number of wrong guesses is: {wrong_guesses_player_1}. Drawing a horizontal line of the scaffold. \\n\\nThese letters have been guessed so far {display_correct_answer}.\")\n",
    "        elif wrong_guesses_player_1 == 2:\n",
    "            print(f\"Your number of wrong guesses is: {wrong_guesses_player_1}. Drawing a vertical line of the scaffold. \\n\\nThese letters have been guessed so far {display_correct_answer}.\")\n",
    "        elif wrong_guesses_player_1 == 3:\n",
    "            print(f\"Your number of wrong guesses is: {wrong_guesses_player_1}. Drawing a diagonal line of the scaffold. \\n\\nThese letters have been guessed so far {display_correct_answer}.\")\n",
    "        elif wrong_guesses_player_1 == 4:\n",
    "            print(f\"Your number of wrong guesses is: {wrong_guesses_player_1}. Drawing a horizontal line of the scaffold. \\n\\nThese letters have been guessed so far {display_correct_answer}.\")\n",
    "        elif wrong_guesses_player_1 == 5:    \n",
    "            print(f\"Your number of wrong guesses is: {wrong_guesses_player_1}. Drawing a noose. \\n\\nThese letters have been guessed so far {display_correct_answer}.\")\n",
    "        elif wrong_guesses_player_1 == 6:    \n",
    "            print(f\"Your number of wrong guesses is: {wrong_guesses_player_1}. Drawing a head. \\n\\nThese letters have been guessed so far {display_correct_answer}.\")\n",
    "        elif wrong_guesses_player_1 == 7:    \n",
    "            print(f\"Your number of wrong guesses is: {wrong_guesses_player_1}. Drawing a neck. \\n\\nThese letters have been guessed so far {display_correct_answer}.\")\n",
    "        elif wrong_guesses_player_1 == 8:    \n",
    "            print(f\"Your number of wrong guesses is: {wrong_guesses_player_1}. Drawing a body. \\n\\nThese letters have been guessed so far {display_correct_answer}.\")\n",
    "        elif wrong_guesses_player_1 == 9:    \n",
    "            print(f\"Your number of wrong guesses is: {wrong_guesses_player_1}. Drawing the left arm. \\n\\nThese letters have been guessed so far {display_correct_answer}.\")\n",
    "        elif wrong_guesses_player_1 == 10:\n",
    "            print(f\"Your number of wrong guesses is: {wrong_guesses_player_1}. Drawing the right arm. \\n\\nThese letters have been guessed so far {display_correct_answer}.\")\n",
    "        elif wrong_guesses_player_1 == 11:   \n",
    "            print(f\"Your number of wrong guesses is: {wrong_guesses_player_1}. Drawing the left leg. \\n\\nThese letters have been guessed so far {display_correct_answer}.\")\n",
    "        elif wrong_guesses_player_1 == 12:    \n",
    "            print(f\"Your number of wrong guesses is: {wrong_guesses_player_1}. Drawing the right leg. \\n\\nThese letters have been guessed so far {display_correct_answer}.\")\n",
    "                \n",
    "        return display_correct_answer, correct_guesses_player_1, wrong_guesses_player_1"
   ]
  },
  {
   "cell_type": "code",
   "execution_count": null,
   "metadata": {
    "scrolled": true
   },
   "outputs": [],
   "source": [
    "# Save function as a variable\n",
    "\n",
    "results = show_result_player_1() "
   ]
  },
  {
   "cell_type": "code",
   "execution_count": null,
   "metadata": {},
   "outputs": [],
   "source": [
    "# Assign global variables\n",
    "display_correct_answer_gl = results[0]\n",
    "display_correct_guesses_player_1_gl = results[1]\n",
    "display_wrong_guesses_player_1_gl = results[2]\n",
    "print(display_correct_answer_gl)\n",
    "print(display_correct_guesses_player_1_gl)\n",
    "print(display_wrong_guesses_player_1_gl)"
   ]
  },
  {
   "cell_type": "markdown",
   "metadata": {},
   "source": [
    "### 1.2.2 Player 2"
   ]
  },
  {
   "cell_type": "code",
   "execution_count": 9,
   "metadata": {},
   "outputs": [],
   "source": [
    "# Ask player 2 to guess a letter\n",
    "\n",
    "def ask_choice_player_2():\n",
    "    \n",
    "    letter_choice_player_2 = (input(\"\\nChoose a letter from 'a' to 'z': \"))\n",
    "    \n",
    "    for letter in letter_choice_player_2:\n",
    "        if letter not in letters:\n",
    "            print (\"Only letters from 'a' to 'z' are accepted.\")\n",
    "            letter_chosen_player_2.append()\n",
    "            letter_choice_player_2 = (input(\"Choose a letter from 'a' to 'z': \"))\n",
    "    \n",
    "    while len(letter_choice_player_2) > 1:\n",
    "        print(\"Sorry, you can only select 1 letter.\")\n",
    "        letter_choice_player_2 = (input(\"Choose a letter from 'a' to 'z': \"))\n",
    "    \n",
    "    return letter_choice_player_2"
   ]
  },
  {
   "cell_type": "code",
   "execution_count": 10,
   "metadata": {},
   "outputs": [
    {
     "name": "stdout",
     "output_type": "stream",
     "text": [
      "\n",
      "Choose a letter from 'a' to 'z': j\n"
     ]
    }
   ],
   "source": [
    "letter_player_2 = ask_choice_player_2()"
   ]
  },
  {
   "cell_type": "code",
   "execution_count": 15,
   "metadata": {},
   "outputs": [],
   "source": [
    "# Show results of player 2\n",
    "\n",
    "def show_result_player_2():\n",
    "    \n",
    "        for i in range(len(word_choice_hangman2)):\n",
    "        \n",
    "            if word_choice_hangman2[i] == letter_player_2: \n",
    "                display_correct_answer[i] = letter_player_2 \n",
    "\n",
    "                print(\"\\nYay, you have a match!\")\n",
    "                print(display_correct_answer)\n",
    "                \n",
    "                correct_guesses_player_2 = 0\n",
    "                correct_guesses_player_2 += 1\n",
    "                wrong_guesses_player_2 = 0\n",
    "                print(f\"\\nYour number of correct guesses is: {correct_guesses_player_2}.\\nYour number of wrong guesses is {wrong_guesses_player_2}.\")\n",
    "        \n",
    "        if letter_player_2 not in word_choice_hangman2:\n",
    "            print(\"\\nSorry, no match.\")\n",
    "            correct_guesses_player_2 = 0\n",
    "            wrong_guesses_player_2 = 0\n",
    "            wrong_guesses_player_2 += 1\n",
    "            print(f\"\\nYour number of correct guesses is: {correct_guesses_player_2}.\")\n",
    "            \n",
    "        if wrong_guesses_player_2 == 1:\n",
    "            print(f\"Your number of wrong guesses is: {wrong_guesses_player_2}. Drawing a horizontal line of the scaffold. \\n\\nThese letters have been guessed so far {display_correct_answer}.\")\n",
    "        elif wrong_guesses_player_2 == 2:\n",
    "            print(f\"Your number of wrong guesses is: {wrong_guesses_player_2}. Drawing a vertical line of the scaffold. \\n\\nThese letters have been guessed so far {display_correct_answer}.\")\n",
    "        elif wrong_guesses_player_2 == 3:\n",
    "            print(f\"Your number of wrong guesses is: {wrong_guesses_player_2}. Drawing a diagonal line of the scaffold. \\n\\nThese letters have been guessed so far {display_correct_answer}.\")\n",
    "        elif wrong_guesses_player_2 == 4:\n",
    "            print(f\"Your number of wrong guesses is: {wrong_guesses_player_2}. Drawing a horizontal line of the scaffold. \\n\\nThese letters have been guessed so far {display_correct_answer}.\")\n",
    "        elif wrong_guesses_player_2 == 5:    \n",
    "            print(f\"Your number of wrong guesses is: {wrong_guesses_player_2}. Drawing a noose. \\n\\nThese letters have been guessed so far {display_correct_answer}.\")\n",
    "        elif wrong_guesses_player_2 == 6:    \n",
    "            print(f\"Your number of wrong guesses is: {wrong_guesses_player_2}. Drawing a head. \\n\\nThese letters have been guessed so far {display_correct_answer}.\")\n",
    "        elif wrong_guesses_player_2 == 7:    \n",
    "            print(f\"Your number of wrong guesses is: {wrong_guesses_player_2}. Drawing a neck. \\n\\nThese letters have been guessed so far {display_correct_answer}.\")\n",
    "        elif wrong_guesses_player_2 == 8:    \n",
    "            print(f\"Your number of wrong guesses is: {wrong_guesses_player_2}. Drawing a body. \\n\\nThese letters have been guessed so far {display_correct_answer}.\")\n",
    "        elif wrong_guesses_player_2 == 9:    \n",
    "            print(f\"Your number of wrong guesses is: {wrong_guesses_player_2}. Drawing the left arm. \\n\\nThese letters have been guessed so far {display_correct_answer}.\")\n",
    "        elif wrong_guesses_player_2 == 10:\n",
    "            print(f\"Your number of wrong guesses is: {wrong_guesses_player_2}. Drawing the right arm. \\n\\nThese letters have been guessed so far {display_correct_answer}.\")\n",
    "        elif wrong_guesses_player_2 == 11:   \n",
    "            print(f\"Your number of wrong guesses is: {wrong_guesses_player_2}. Drawing the left leg. \\n\\nThese letters have been guessed so far {display_correct_answer}.\")\n",
    "        elif wrong_guesses_player_2 == 12:    \n",
    "            print(f\"Your number of wrong guesses is: {wrong_guesses_player_2}. Drawing the right leg. \\n\\nThese letters have been guessed so far {display_correct_answer}.\")\n",
    "                \n",
    "        return display_correct_answer, correct_guesses_player_2, wrong_guesses_player_2"
   ]
  },
  {
   "cell_type": "code",
   "execution_count": 16,
   "metadata": {},
   "outputs": [
    {
     "name": "stdout",
     "output_type": "stream",
     "text": [
      "\n",
      "Yay, you have a match!\n",
      "['j', '_', '_', '_']\n",
      "\n",
      "Your number of correct guesses is: 1.\n",
      "Your number of wrong guesses is 0.\n"
     ]
    }
   ],
   "source": [
    "# Save function as a variable\n",
    "\n",
    "results = show_result_player_2() "
   ]
  },
  {
   "cell_type": "code",
   "execution_count": 17,
   "metadata": {},
   "outputs": [
    {
     "name": "stdout",
     "output_type": "stream",
     "text": [
      "['j', '_', '_', '_']\n",
      "1\n",
      "0\n"
     ]
    }
   ],
   "source": [
    "# Assign global variables\n",
    "display_correct_answer_gl = results[0]\n",
    "display_correct_guesses_player_2_gl = results[1]\n",
    "display_wrong_guesses_player_2_gl = results[2]\n",
    "print(display_correct_answer_gl)\n",
    "print(display_correct_guesses_player_2_gl) \n",
    "print(display_wrong_guesses_player_2_gl)"
   ]
  },
  {
   "cell_type": "markdown",
   "metadata": {},
   "source": [
    "### 1.2.3 Player 1 again"
   ]
  },
  {
   "cell_type": "code",
   "execution_count": 18,
   "metadata": {},
   "outputs": [],
   "source": [
    "# Ask player 1 to guess a letter\n",
    "\n",
    "def ask_choice_player_1():\n",
    "    \n",
    "    letter_choice_player_1 = (input(\"\\nChoose a letter from 'a' to 'z': \"))\n",
    "    \n",
    "    for letter in letter_choice_player_1:\n",
    "        if letter not in letters:\n",
    "            print (\"Only letters from 'a' to 'z' are accepted.\")\n",
    "            letter_chosen_player_1.append()\n",
    "            letter_choice_player_1 = (input(\"Choose a letter from 'a' to 'z': \"))\n",
    "    \n",
    "    while len(letter_choice_player_1) > 1:\n",
    "        print(\"Sorry, you can only select 1 letter.\")\n",
    "        letter_choice_player_1 = (input(\"Choose a letter from 'a' to 'z': \"))\n",
    "    \n",
    "    return letter_choice_player_1"
   ]
  },
  {
   "cell_type": "code",
   "execution_count": 19,
   "metadata": {},
   "outputs": [
    {
     "name": "stdout",
     "output_type": "stream",
     "text": [
      "\n",
      "Choose a letter from 'a' to 'z': i\n"
     ]
    }
   ],
   "source": [
    "letter_player_1 = ask_choice_player_1()"
   ]
  },
  {
   "cell_type": "code",
   "execution_count": null,
   "metadata": {},
   "outputs": [],
   "source": [
    "# Use a variable j for each round (preparation for the loop)\n",
    "\n",
    "\n",
    "while j < 12:\n",
    "\n",
    "    def show_result_player_1():\n",
    "    \n",
    "        for i in range(len(word_choice_hangman2)):\n",
    "        \n",
    "            if word_choice_hangman2[i] == letter_player_1: \n",
    "                display_correct_answer[i] = letter_player_1 \n",
    "\n",
    "                print(\"\\nYay, you have a match!\")\n",
    "                print(display_correct_answer_gl)\n",
    "                \n",
    "                correct_guesses_player_1 = 0\n",
    "                correct_guesses_player_1 += 1\n",
    "                wrong_guesses_player_1 = 0\n",
    "                print(f\"\\nYour number of correct guesses is: {correct_guesses_player_1}.\\nYour number of wrong guesses is {wrong_guesses_player_1}.\")\n",
    "        \n",
    "        if letter_player_1 not in word_choice_hangman2:\n",
    "            print(\"\\nSorry, no match.\")\n",
    "            correct_guesses_player_1 = 0\n",
    "            wrong_guesses_player_1 = 0\n",
    "            wrong_guesses_player_1 += 1\n",
    "            print(f\"\\nYour number of correct guesses is: {correct_guesses_player_1}.\")\n",
    "            \n",
    "        if wrong_guesses_player_1 == 1:\n",
    "            print(f\"Your number of wrong guesses is: {wrong_guesses_player_1}. Drawing a horizontal line of the scaffold. \\n\\nThese letters have been guessed so far {display_correct_answer}.\")\n",
    "        elif wrong_guesses_player_1 == 2:\n",
    "            print(f\"Your number of wrong guesses is: {wrong_guesses_player_1}. Drawing a vertical line of the scaffold. \\n\\nThese letters have been guessed so far {display_correct_answer}.\")\n",
    "        elif wrong_guesses_player_1 == 3:\n",
    "            print(f\"Your number of wrong guesses is: {wrong_guesses_player_1}. Drawing a diagonal line of the scaffold. \\n\\nThese letters have been guessed so far {display_correct_answer}.\")\n",
    "        elif wrong_guesses_player_1 == 4:\n",
    "            print(f\"Your number of wrong guesses is: {wrong_guesses_player_1}. Drawing a horizontal line of the scaffold. \\n\\nThese letters have been guessed so far {display_correct_answer}.\")\n",
    "        elif wrong_guesses_player_1 == 5:    \n",
    "            print(f\"Your number of wrong guesses is: {wrong_guesses_player_1}. Drawing a noose. \\n\\nThese letters have been guessed so far {display_correct_answer}.\")\n",
    "        elif wrong_guesses_player_1 == 6:    \n",
    "            print(f\"Your number of wrong guesses is: {wrong_guesses_player_1}. Drawing a head. \\n\\nThese letters have been guessed so far {display_correct_answer}.\")\n",
    "        elif wrong_guesses_player_1 == 7:    \n",
    "            print(f\"Your number of wrong guesses is: {wrong_guesses_player_1}. Drawing a neck. \\n\\nThese letters have been guessed so far {display_correct_answer}.\")\n",
    "        elif wrong_guesses_player_1 == 8:    \n",
    "            print(f\"Your number of wrong guesses is: {wrong_guesses_player_1}. Drawing a body. \\n\\nThese letters have been guessed so far {display_correct_answer}.\")\n",
    "        elif wrong_guesses_player_1 == 9:    \n",
    "            print(f\"Your number of wrong guesses is: {wrong_guesses_player_1}. Drawing the left arm. \\n\\nThese letters have been guessed so far {display_correct_answer}.\")\n",
    "        elif wrong_guesses_player_1 == 10:\n",
    "            print(f\"Your number of wrong guesses is: {wrong_guesses_player_1}. Drawing the right arm. \\n\\nThese letters have been guessed so far {display_correct_answer}.\")\n",
    "        elif wrong_guesses_player_1 == 11:   \n",
    "            print(f\"Your number of wrong guesses is: {wrong_guesses_player_1}. Drawing the left leg. \\n\\nThese letters have been guessed so far {display_correct_answer}.\")\n",
    "        elif wrong_guesses_player_1 == 12:    \n",
    "            print(f\"Your number of wrong guesses is: {wrong_guesses_player_1}. Drawing the right leg. \\n\\nThese letters have been guessed so far {display_correct_answer}.\")\n",
    "                \n",
    "        return display_correct_answer, correct_guesses_player_1, wrong_guesses_player_1"
   ]
  },
  {
   "cell_type": "code",
   "execution_count": null,
   "metadata": {},
   "outputs": [],
   "source": [
    "# Update function of variable\n",
    "\n",
    "results = show_result_player_1() "
   ]
  },
  {
   "cell_type": "markdown",
   "metadata": {},
   "source": [
    "### 1.2.4 Wrap Up"
   ]
  },
  {
   "cell_type": "code",
   "execution_count": null,
   "metadata": {},
   "outputs": [],
   "source": [
    "# Create a loop\n",
    "\n",
    "while ((display_correct_guesses_player_1_gl < len(list(word_choice_hangman2))) and (display_correct_guesses_player_2_gl < len(list(word_choice_hangman2)))and (display_wrong_guesses_player_1_gl < 12) and (display_wrong_guesses_player_2_gl < 12)):\n",
    "    \n",
    "        ask_choice_player_1()\n",
    "        show_result_player_1()\n",
    "        ask_choice_player_2()\n",
    "        show_result_player_2()\n",
    "\n",
    "if display_correct_guesses_player_1_gl == 8 | display_correct_guesses_player_2_gl == 8:\n",
    "        print(\"C o n g r a t u l a t i o n s! You won!\")\n",
    "    \n",
    "elif display_wrong_guesses_player_1_gl == 12 | display_wrong_guesses_player_2_gl == 8:\n",
    "        print(\"Sorry, g a m e  o v e r. Want to play again?\")\n",
    "    "
   ]
  },
  {
   "cell_type": "markdown",
   "metadata": {},
   "source": [
    "## 2 Summary & Condension"
   ]
  },
  {
   "cell_type": "code",
   "execution_count": null,
   "metadata": {},
   "outputs": [],
   "source": [
    "# List valid letters\n",
    "import string\n",
    "letters = list(string.ascii_lowercase)\n",
    "\n",
    "# Select no. of players\n",
    "ask_no_players()\n",
    "\n",
    "def game(ask_no_players_2):\n",
    "    \n",
    "# The hangman chooses a word of max 8 letters for the players to guess.\n",
    "    ask_word_choice_hangman()\n",
    "\n",
    "# The player 1 selects a letter he thinks might be in the word.\n",
    "# The player 1 is notified of a correct or wrong guess.\n",
    "# For every wrong guess another stroke of a picture showing a hanged man is drawn.\n",
    "# The player 1 is shown all letters that have been guessed correctly so far.\n",
    "\n",
    "    if ask_no_players_2 == 1:\n",
    "    \n",
    "        while ((display_correct_guesses_player_1_gl < len(list(word_choice_hangman2))) and (display_wrong_guesses_player_1_gl < 12):\n",
    "    \n",
    "            ask_choice_player_1()\n",
    "            show_result_player_1(letter_player_1)\n",
    "               \n",
    "        if display_correct_guesses_player_1_gl == 8:\n",
    "            print(\"C o n g r a t u l a t i o n s! You won!\")\n",
    "    \n",
    "        elif display_wrong_guesses_player_1_gl == 12:\n",
    "            print(\"Sorry, g a m e  o v e r. Want to play again?\")\n",
    "\n",
    "# In case of multiple parties, the player 2 repeats the process of player 1.\n",
    "# This continues until either a player has guessed all characters and wins, or has 12 wrong guesses and loses.\n",
    "\n",
    "    elif ask_no_players_2 == 2:\n",
    "               \n",
    "        while((display_correct_guesses_player_1_gl < len(list(word_choice_hangman2))) and (display_correct_guesses_player_2_gl < len(list(word_choice_hangman2)))and (display_wrong_guesses_player_1_gl < 12) and (display_wrong_guesses_player_2_gl < 12)):\n",
    "    \n",
    "            ask_choice_player_1()\n",
    "            show_result_player_1(letter_player_1)\n",
    "            ask_choice_player_2()\n",
    "            show_result_player_2(letter_player_2)\n",
    "\n",
    "        if display_correct_guesses_player_1_gl == 8 | display_correct_guesses_player_2_gl == 8:\n",
    "            print(\"C o n g r a t u l a t i o n s! You won!\")\n",
    "    \n",
    "        elif display_wrong_guesses_player_1_gl == 12 | display_wrong_guesses_player_2_gl == 8:\n",
    "            print(\"Sorry, g a m e  o v e r. Want to play again?\")\n",
    "    "
   ]
  }
 ],
 "metadata": {
  "kernelspec": {
   "display_name": "Python 3",
   "language": "python",
   "name": "python3"
  },
  "language_info": {
   "codemirror_mode": {
    "name": "ipython",
    "version": 3
   },
   "file_extension": ".py",
   "mimetype": "text/x-python",
   "name": "python",
   "nbconvert_exporter": "python",
   "pygments_lexer": "ipython3",
   "version": "3.8.5"
  }
 },
 "nbformat": 4,
 "nbformat_minor": 4
}
